{
 "cells": [
  {
   "cell_type": "code",
   "execution_count": 1,
   "metadata": {},
   "outputs": [],
   "source": [
    "\"\"\"\n",
    "Datta, \"Quantum Transport: Atom to Transistor\" Fig. 9.5.5a\n",
    "\n",
    "Yong-Hoon Kim, School of Electrical Engineering, Korea Advanced Institute of Science & Technology (KAIST)\n",
    "2020/12/18  \n",
    "\"\"\"\n",
    "import numpy as np\n",
    "from numpy import linalg as LA\n",
    "import matplotlib.pyplot as plt\n",
    "from matplotlib import rcParams"
   ]
  },
  {
   "cell_type": "code",
   "execution_count": null,
   "metadata": {},
   "outputs": [],
   "source": [
    "#Constants (all MKS, except energy which is in eV)\n",
    "hbar=1.06e-34; q=1.6e-19; m=0.25*9.1e-31; IE=(q*q)/(2*pi*hbar);\n",
    "Ef = 0.1; kT = 0.025;\n",
    "\n",
    "#inputs\n",
    "a = 3e-10; t0 = (hbar**2)/(2*m*(a**2)*q);"
   ]
  },
  {
   "cell_type": "code",
   "execution_count": 2,
   "metadata": {},
   "outputs": [],
   "source": [
    "#Hamiltonian matrix\n",
    "NS = 15; NC = 20; ND = 15\n",
    "Np = NS + NC + ND\n",
    "T = 2*t0*np.eye(Np) - t0*eye(Np,k=1) - t0*eye(Np,k=-1)\n",
    "UB = 0*ones((Np)) #no barrier\n",
    "T = T + np.diag(UB)\n",
    "\n",
    "#Bias\n",
    "V  = 0\n",
    "mu1 = Ef + (V/2)\n",
    "mu2 = Ef - (V/2)\n",
    "U1 = V*hstack((0.5*ones(NS),linspace(0.5,-0.5,NC),-0.5*ones(ND));\n",
    "U1 = transpose(U1); #Applied potential profile\n",
    "\n",
    "#Energy grid for Green’s function method\n",
    "NE = 501\n",
    "E = linspace(-0.2,0.8,NE)\n",
    "zplus=1j*1e-12\n",
    "dE = E[1]-E[0]\n",
    "f1 = 1/(1+exp((E-mu1)/kT));\n",
    "f2 = 1/(1+exp((E-mu2)/kT));\n",
    "\n",
    "#Initializing arrays\n",
    "TM=zeros((NE));\n",
    "\n",
    "#Transmission\n",
    "I=0; #Current\n",
    "\n",
    "for k in range (0,NE):\n",
    "    sig1=zeros((Np,Np),dtype=complex)\n",
    "    sig2=zeros((Np,Np),dtype=complex)\n",
    "    sig3=zeros((Np,Np),dtype=complex)\n",
    "\n",
    "    ck=1-((E[k]+zplus-U1[0]-UB[0])/(2*t0))\n",
    "    ka=cmath.acos(ck); sig1[0,0]=-t0*exp(1j*ka)\n",
    "        gam1=1j*(sig1-conj(transpose(sig1)))\n",
    "    \n",
    "    ck=1-((E[k]+zplus-U1[Np-1]-UB[Np-1])/(2*t0))\n",
    "    ka=cmath.acos(ck); sig2[Np-1,Np-1]=-t0*exp(1j*ka)\n",
    "    gam2=1j*(sig2-conj(transpose(sig2)))\n",
    "              \n",
    "    G=inv(((E[k]+zplus)*eye(Np))-T-diag(U1)-sig1-sig2-sig3);\n",
    "    TM[k]=real(trace(dot(dot(dot(gam1,G),gam2),conj(transpose(G)))));\n",
    "    I=I+(dE*IE*TM[k]*(f1[k]-f2[k]));\n",
    "\n",
    "XX = a*1e9*(array(list(range(1,Np+1)))); \n",
    "XS = XX[0:NS-4]; \n",
    "XD = XX[NS+NC+5-1:Np];"
   ]
  },
  {
   "cell_type": "code",
   "execution_count": 3,
   "metadata": {},
   "outputs": [
    {
     "data": {
      "image/png": "[encoded data removed]",
      "text/plain": [
       "<Figure size 1008x288 with 2 Axes>"
      ]
     },
     "metadata": {
      "needs_background": "light"
     },
     "output_type": "display_data"
    }
   ],
   "source": [
    "figure(figsize=(14,4))\n",
    "subplot(1,2,1)\n",
    "plot(XX,U1+UB,'r',lw=1)\n",
    "plot(XS,mu1*ones((NS-4)),'r--',lw=1)\n",
    "plot(XD,mu2*ones((ND-4)),'r--',lw=2)\n",
    "xlabel(' $z$ ( nm ) $-->$ ',fontsize=15)\n",
    "ylabel(' Energy ( eV ) $-->$ ',fontsize=15)\n",
    "xlim(0,15); \n",
    "ylim(-0.2,0.8)\n",
    "tick_params(axis='both',which='major',labelsize=15,direction='in')\n",
    "xticks(arange(2,16,2))\n",
    "grid(color='b', alpha=0.5, ls='--',lw=0.5)\n",
    "\n",
    "subplot(1,2,2)\n",
    "plot(TM,E,'r',lw=2)\n",
    "xlabel(' Transmission $-->$ ',fontsize=15)\n",
    "ylabel(' Energy ( eV ) $-->$ ',fontsize=15)\n",
    "xlim(0,1.2)\n",
    "ylim(-0.2,0.8)\n",
    "tick_params(axis='both',which='major',labelsize=15,direction='in')\n",
    "xticks(arange(0.2,1.4,0.2))\n",
    "grid(color='b', alpha=0.5, ls='--',lw=0.5)"
   ]
  },
  {
   "cell_type": "code",
   "execution_count": null,
   "metadata": {},
   "outputs": [],
   "source": []
  }
 ],
 "metadata": {
  "kernelspec": {
   "display_name": "Python 3",
   "language": "python",
   "name": "python3"
  },
  "language_info": {
   "codemirror_mode": {
    "name": "ipython",
    "version": 3
   },
   "file_extension": ".py",
   "mimetype": "text/x-python",
   "name": "python",
   "nbconvert_exporter": "python",
   "pygments_lexer": "ipython3",
   "version": "3.8.5"
  }
 },
 "nbformat": 4,
 "nbformat_minor": 4
}
